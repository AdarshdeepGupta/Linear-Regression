{
 "cells": [
  {
   "cell_type": "code",
   "execution_count": 1,
   "id": "f36835cb",
   "metadata": {},
   "outputs": [],
   "source": [
    "import numpy as np\n",
    "import pandas as pd\n",
    "import matplotlib.pyplot as plt"
   ]
  },
  {
   "cell_type": "code",
   "execution_count": 2,
   "id": "fc4e8b38",
   "metadata": {},
   "outputs": [],
   "source": [
    "Raw_housing_data=pd.read_csv(\"1. Regression - Module - (Housing Prices).csv\")"
   ]
  },
  {
   "cell_type": "code",
   "execution_count": 3,
   "id": "472d62bf",
   "metadata": {},
   "outputs": [
    {
     "data": {
      "text/html": [
       "<div>\n",
       "<style scoped>\n",
       "    .dataframe tbody tr th:only-of-type {\n",
       "        vertical-align: middle;\n",
       "    }\n",
       "\n",
       "    .dataframe tbody tr th {\n",
       "        vertical-align: top;\n",
       "    }\n",
       "\n",
       "    .dataframe thead th {\n",
       "        text-align: right;\n",
       "    }\n",
       "</style>\n",
       "<table border=\"1\" class=\"dataframe\">\n",
       "  <thead>\n",
       "    <tr style=\"text-align: right;\">\n",
       "      <th></th>\n",
       "      <th>ID</th>\n",
       "      <th>Date House was Sold</th>\n",
       "      <th>Sale Price</th>\n",
       "      <th>No of Bedrooms</th>\n",
       "      <th>No of Bathrooms</th>\n",
       "      <th>Flat Area (in Sqft)</th>\n",
       "      <th>Lot Area (in Sqft)</th>\n",
       "      <th>No of Floors</th>\n",
       "      <th>Waterfront View</th>\n",
       "      <th>No of Times Visited</th>\n",
       "      <th>...</th>\n",
       "      <th>Overall Grade</th>\n",
       "      <th>Area of the House from Basement (in Sqft)</th>\n",
       "      <th>Basement Area (in Sqft)</th>\n",
       "      <th>Age of House (in Years)</th>\n",
       "      <th>Renovated Year</th>\n",
       "      <th>Zipcode</th>\n",
       "      <th>Latitude</th>\n",
       "      <th>Longitude</th>\n",
       "      <th>Living Area after Renovation (in Sqft)</th>\n",
       "      <th>Lot Area after Renovation (in Sqft)</th>\n",
       "    </tr>\n",
       "  </thead>\n",
       "  <tbody>\n",
       "    <tr>\n",
       "      <th>0</th>\n",
       "      <td>7129300520</td>\n",
       "      <td>14 October 2017</td>\n",
       "      <td>221900.0</td>\n",
       "      <td>3</td>\n",
       "      <td>1.00</td>\n",
       "      <td>1180.0</td>\n",
       "      <td>5650.0</td>\n",
       "      <td>1.0</td>\n",
       "      <td>No</td>\n",
       "      <td>None</td>\n",
       "      <td>...</td>\n",
       "      <td>7</td>\n",
       "      <td>1180.0</td>\n",
       "      <td>0</td>\n",
       "      <td>63</td>\n",
       "      <td>0</td>\n",
       "      <td>98178.0</td>\n",
       "      <td>47.5112</td>\n",
       "      <td>-122.257</td>\n",
       "      <td>1340.0</td>\n",
       "      <td>5650</td>\n",
       "    </tr>\n",
       "    <tr>\n",
       "      <th>1</th>\n",
       "      <td>6414100192</td>\n",
       "      <td>14 December 2017</td>\n",
       "      <td>538000.0</td>\n",
       "      <td>3</td>\n",
       "      <td>2.25</td>\n",
       "      <td>2570.0</td>\n",
       "      <td>7242.0</td>\n",
       "      <td>2.0</td>\n",
       "      <td>No</td>\n",
       "      <td>None</td>\n",
       "      <td>...</td>\n",
       "      <td>7</td>\n",
       "      <td>2170.0</td>\n",
       "      <td>400</td>\n",
       "      <td>67</td>\n",
       "      <td>1991</td>\n",
       "      <td>98125.0</td>\n",
       "      <td>47.7210</td>\n",
       "      <td>-122.319</td>\n",
       "      <td>1690.0</td>\n",
       "      <td>7639</td>\n",
       "    </tr>\n",
       "    <tr>\n",
       "      <th>2</th>\n",
       "      <td>5631500400</td>\n",
       "      <td>15 February 2016</td>\n",
       "      <td>180000.0</td>\n",
       "      <td>2</td>\n",
       "      <td>1.00</td>\n",
       "      <td>770.0</td>\n",
       "      <td>10000.0</td>\n",
       "      <td>1.0</td>\n",
       "      <td>No</td>\n",
       "      <td>None</td>\n",
       "      <td>...</td>\n",
       "      <td>6</td>\n",
       "      <td>770.0</td>\n",
       "      <td>0</td>\n",
       "      <td>85</td>\n",
       "      <td>0</td>\n",
       "      <td>98028.0</td>\n",
       "      <td>47.7379</td>\n",
       "      <td>-122.233</td>\n",
       "      <td>2720.0</td>\n",
       "      <td>8062</td>\n",
       "    </tr>\n",
       "    <tr>\n",
       "      <th>3</th>\n",
       "      <td>2487200875</td>\n",
       "      <td>14 December 2017</td>\n",
       "      <td>604000.0</td>\n",
       "      <td>4</td>\n",
       "      <td>3.00</td>\n",
       "      <td>1960.0</td>\n",
       "      <td>5000.0</td>\n",
       "      <td>1.0</td>\n",
       "      <td>No</td>\n",
       "      <td>None</td>\n",
       "      <td>...</td>\n",
       "      <td>7</td>\n",
       "      <td>1050.0</td>\n",
       "      <td>910</td>\n",
       "      <td>53</td>\n",
       "      <td>0</td>\n",
       "      <td>98136.0</td>\n",
       "      <td>47.5208</td>\n",
       "      <td>-122.393</td>\n",
       "      <td>1360.0</td>\n",
       "      <td>5000</td>\n",
       "    </tr>\n",
       "    <tr>\n",
       "      <th>4</th>\n",
       "      <td>1954400510</td>\n",
       "      <td>15 February 2016</td>\n",
       "      <td>510000.0</td>\n",
       "      <td>3</td>\n",
       "      <td>2.00</td>\n",
       "      <td>1680.0</td>\n",
       "      <td>8080.0</td>\n",
       "      <td>1.0</td>\n",
       "      <td>No</td>\n",
       "      <td>None</td>\n",
       "      <td>...</td>\n",
       "      <td>8</td>\n",
       "      <td>1680.0</td>\n",
       "      <td>0</td>\n",
       "      <td>31</td>\n",
       "      <td>0</td>\n",
       "      <td>98074.0</td>\n",
       "      <td>47.6168</td>\n",
       "      <td>-122.045</td>\n",
       "      <td>1800.0</td>\n",
       "      <td>7503</td>\n",
       "    </tr>\n",
       "    <tr>\n",
       "      <th>...</th>\n",
       "      <td>...</td>\n",
       "      <td>...</td>\n",
       "      <td>...</td>\n",
       "      <td>...</td>\n",
       "      <td>...</td>\n",
       "      <td>...</td>\n",
       "      <td>...</td>\n",
       "      <td>...</td>\n",
       "      <td>...</td>\n",
       "      <td>...</td>\n",
       "      <td>...</td>\n",
       "      <td>...</td>\n",
       "      <td>...</td>\n",
       "      <td>...</td>\n",
       "      <td>...</td>\n",
       "      <td>...</td>\n",
       "      <td>...</td>\n",
       "      <td>...</td>\n",
       "      <td>...</td>\n",
       "      <td>...</td>\n",
       "      <td>...</td>\n",
       "    </tr>\n",
       "    <tr>\n",
       "      <th>21608</th>\n",
       "      <td>263000018</td>\n",
       "      <td>14 May 2017</td>\n",
       "      <td>360000.0</td>\n",
       "      <td>3</td>\n",
       "      <td>2.50</td>\n",
       "      <td>1530.0</td>\n",
       "      <td>1131.0</td>\n",
       "      <td>3.0</td>\n",
       "      <td>No</td>\n",
       "      <td>None</td>\n",
       "      <td>...</td>\n",
       "      <td>8</td>\n",
       "      <td>1530.0</td>\n",
       "      <td>0</td>\n",
       "      <td>9</td>\n",
       "      <td>0</td>\n",
       "      <td>98103.0</td>\n",
       "      <td>47.6993</td>\n",
       "      <td>-122.346</td>\n",
       "      <td>1530.0</td>\n",
       "      <td>1509</td>\n",
       "    </tr>\n",
       "    <tr>\n",
       "      <th>21609</th>\n",
       "      <td>6600060120</td>\n",
       "      <td>15 February 2016</td>\n",
       "      <td>400000.0</td>\n",
       "      <td>4</td>\n",
       "      <td>2.50</td>\n",
       "      <td>2310.0</td>\n",
       "      <td>5813.0</td>\n",
       "      <td>2.0</td>\n",
       "      <td>No</td>\n",
       "      <td>None</td>\n",
       "      <td>...</td>\n",
       "      <td>8</td>\n",
       "      <td>2310.0</td>\n",
       "      <td>0</td>\n",
       "      <td>4</td>\n",
       "      <td>0</td>\n",
       "      <td>98146.0</td>\n",
       "      <td>47.5107</td>\n",
       "      <td>-122.362</td>\n",
       "      <td>1830.0</td>\n",
       "      <td>7200</td>\n",
       "    </tr>\n",
       "    <tr>\n",
       "      <th>21610</th>\n",
       "      <td>1523300141</td>\n",
       "      <td>14 June 2017</td>\n",
       "      <td>402101.0</td>\n",
       "      <td>2</td>\n",
       "      <td>0.75</td>\n",
       "      <td>1020.0</td>\n",
       "      <td>1350.0</td>\n",
       "      <td>2.0</td>\n",
       "      <td>No</td>\n",
       "      <td>None</td>\n",
       "      <td>...</td>\n",
       "      <td>7</td>\n",
       "      <td>1020.0</td>\n",
       "      <td>0</td>\n",
       "      <td>9</td>\n",
       "      <td>0</td>\n",
       "      <td>98144.0</td>\n",
       "      <td>47.5944</td>\n",
       "      <td>-122.299</td>\n",
       "      <td>1020.0</td>\n",
       "      <td>2007</td>\n",
       "    </tr>\n",
       "    <tr>\n",
       "      <th>21611</th>\n",
       "      <td>291310100</td>\n",
       "      <td>15 January 2016</td>\n",
       "      <td>400000.0</td>\n",
       "      <td>3</td>\n",
       "      <td>2.50</td>\n",
       "      <td>1600.0</td>\n",
       "      <td>2388.0</td>\n",
       "      <td>2.0</td>\n",
       "      <td>No</td>\n",
       "      <td>None</td>\n",
       "      <td>...</td>\n",
       "      <td>8</td>\n",
       "      <td>1600.0</td>\n",
       "      <td>0</td>\n",
       "      <td>14</td>\n",
       "      <td>0</td>\n",
       "      <td>98027.0</td>\n",
       "      <td>47.5345</td>\n",
       "      <td>-122.069</td>\n",
       "      <td>1410.0</td>\n",
       "      <td>1287</td>\n",
       "    </tr>\n",
       "    <tr>\n",
       "      <th>21612</th>\n",
       "      <td>1523300157</td>\n",
       "      <td>14 October 2017</td>\n",
       "      <td>325000.0</td>\n",
       "      <td>2</td>\n",
       "      <td>0.75</td>\n",
       "      <td>1020.0</td>\n",
       "      <td>1076.0</td>\n",
       "      <td>2.0</td>\n",
       "      <td>No</td>\n",
       "      <td>None</td>\n",
       "      <td>...</td>\n",
       "      <td>7</td>\n",
       "      <td>1020.0</td>\n",
       "      <td>0</td>\n",
       "      <td>10</td>\n",
       "      <td>0</td>\n",
       "      <td>98144.0</td>\n",
       "      <td>47.5941</td>\n",
       "      <td>-122.299</td>\n",
       "      <td>1020.0</td>\n",
       "      <td>1357</td>\n",
       "    </tr>\n",
       "  </tbody>\n",
       "</table>\n",
       "<p>21613 rows × 21 columns</p>\n",
       "</div>"
      ],
      "text/plain": [
       "               ID Date House was Sold  Sale Price  No of Bedrooms  \\\n",
       "0      7129300520     14 October 2017    221900.0               3   \n",
       "1      6414100192    14 December 2017    538000.0               3   \n",
       "2      5631500400    15 February 2016    180000.0               2   \n",
       "3      2487200875    14 December 2017    604000.0               4   \n",
       "4      1954400510    15 February 2016    510000.0               3   \n",
       "...           ...                 ...         ...             ...   \n",
       "21608   263000018         14 May 2017    360000.0               3   \n",
       "21609  6600060120    15 February 2016    400000.0               4   \n",
       "21610  1523300141        14 June 2017    402101.0               2   \n",
       "21611   291310100     15 January 2016    400000.0               3   \n",
       "21612  1523300157     14 October 2017    325000.0               2   \n",
       "\n",
       "       No of Bathrooms  Flat Area (in Sqft)  Lot Area (in Sqft)  No of Floors  \\\n",
       "0                 1.00               1180.0              5650.0           1.0   \n",
       "1                 2.25               2570.0              7242.0           2.0   \n",
       "2                 1.00                770.0             10000.0           1.0   \n",
       "3                 3.00               1960.0              5000.0           1.0   \n",
       "4                 2.00               1680.0              8080.0           1.0   \n",
       "...                ...                  ...                 ...           ...   \n",
       "21608             2.50               1530.0              1131.0           3.0   \n",
       "21609             2.50               2310.0              5813.0           2.0   \n",
       "21610             0.75               1020.0              1350.0           2.0   \n",
       "21611             2.50               1600.0              2388.0           2.0   \n",
       "21612             0.75               1020.0              1076.0           2.0   \n",
       "\n",
       "      Waterfront View No of Times Visited  ... Overall Grade  \\\n",
       "0                  No                None  ...             7   \n",
       "1                  No                None  ...             7   \n",
       "2                  No                None  ...             6   \n",
       "3                  No                None  ...             7   \n",
       "4                  No                None  ...             8   \n",
       "...               ...                 ...  ...           ...   \n",
       "21608              No                None  ...             8   \n",
       "21609              No                None  ...             8   \n",
       "21610              No                None  ...             7   \n",
       "21611              No                None  ...             8   \n",
       "21612              No                None  ...             7   \n",
       "\n",
       "       Area of the House from Basement (in Sqft)  Basement Area (in Sqft)  \\\n",
       "0                                         1180.0                        0   \n",
       "1                                         2170.0                      400   \n",
       "2                                          770.0                        0   \n",
       "3                                         1050.0                      910   \n",
       "4                                         1680.0                        0   \n",
       "...                                          ...                      ...   \n",
       "21608                                     1530.0                        0   \n",
       "21609                                     2310.0                        0   \n",
       "21610                                     1020.0                        0   \n",
       "21611                                     1600.0                        0   \n",
       "21612                                     1020.0                        0   \n",
       "\n",
       "       Age of House (in Years)  Renovated Year  Zipcode  Latitude  Longitude  \\\n",
       "0                           63               0  98178.0   47.5112   -122.257   \n",
       "1                           67            1991  98125.0   47.7210   -122.319   \n",
       "2                           85               0  98028.0   47.7379   -122.233   \n",
       "3                           53               0  98136.0   47.5208   -122.393   \n",
       "4                           31               0  98074.0   47.6168   -122.045   \n",
       "...                        ...             ...      ...       ...        ...   \n",
       "21608                        9               0  98103.0   47.6993   -122.346   \n",
       "21609                        4               0  98146.0   47.5107   -122.362   \n",
       "21610                        9               0  98144.0   47.5944   -122.299   \n",
       "21611                       14               0  98027.0   47.5345   -122.069   \n",
       "21612                       10               0  98144.0   47.5941   -122.299   \n",
       "\n",
       "       Living Area after Renovation (in Sqft)  \\\n",
       "0                                      1340.0   \n",
       "1                                      1690.0   \n",
       "2                                      2720.0   \n",
       "3                                      1360.0   \n",
       "4                                      1800.0   \n",
       "...                                       ...   \n",
       "21608                                  1530.0   \n",
       "21609                                  1830.0   \n",
       "21610                                  1020.0   \n",
       "21611                                  1410.0   \n",
       "21612                                  1020.0   \n",
       "\n",
       "       Lot Area after Renovation (in Sqft)  \n",
       "0                                     5650  \n",
       "1                                     7639  \n",
       "2                                     8062  \n",
       "3                                     5000  \n",
       "4                                     7503  \n",
       "...                                    ...  \n",
       "21608                                 1509  \n",
       "21609                                 7200  \n",
       "21610                                 2007  \n",
       "21611                                 1287  \n",
       "21612                                 1357  \n",
       "\n",
       "[21613 rows x 21 columns]"
      ]
     },
     "execution_count": 3,
     "metadata": {},
     "output_type": "execute_result"
    }
   ],
   "source": [
    "Raw_housing_data"
   ]
  },
  {
   "cell_type": "code",
   "execution_count": 4,
   "id": "7dd599d5",
   "metadata": {},
   "outputs": [
    {
     "data": {
      "text/plain": [
       "<matplotlib.collections.PathCollection at 0x233cab16070>"
      ]
     },
     "execution_count": 4,
     "metadata": {},
     "output_type": "execute_result"
    },
    {
     "data": {
      "image/png": "[encoded data removed]",
      "text/plain": [
       "<Figure size 640x480 with 1 Axes>"
      ]
     },
     "metadata": {},
     "output_type": "display_data"
    }
   ],
   "source": [
    "#To identify outliers we plot a scatterplot\n",
    "plt.scatter(x=Raw_housing_data['ID'],y=Raw_housing_data['Sale Price'])"
   ]
  },
  {
   "cell_type": "code",
   "execution_count": 5,
   "id": "d7d24069",
   "metadata": {},
   "outputs": [
    {
     "data": {
      "text/plain": [
       "count    2.160900e+04\n",
       "mean     5.401984e+05\n",
       "std      3.673890e+05\n",
       "min      7.500000e+04\n",
       "25%      3.219500e+05\n",
       "50%      4.500000e+05\n",
       "75%      6.450000e+05\n",
       "max      7.700000e+06\n",
       "Name: Sale Price, dtype: float64"
      ]
     },
     "execution_count": 5,
     "metadata": {},
     "output_type": "execute_result"
    }
   ],
   "source": [
    "Raw_housing_data['Sale Price'].describe()"
   ]
  },
  {
   "cell_type": "code",
   "execution_count": 6,
   "id": "be403376",
   "metadata": {},
   "outputs": [],
   "source": [
    "#Mean is much greater than Median so we conclude it is not normally distributed\n",
    "#here we also see count<total rows so there are null values present which need to be treated"
   ]
  },
  {
   "cell_type": "code",
   "execution_count": 7,
   "id": "e20cec25",
   "metadata": {},
   "outputs": [],
   "source": [
    "#IQR=Q3-Q1\n",
    "#lower_limit=q1-1.5*IQR\n",
    "#upper_limit=q3+1.5*IQR\n",
    "#If lower limit<minimum value in our data then lower_limit=min(data)\n",
    "#If upper limit>maximum value in out data then upper_limit=max(data)\n",
    "#any data point higher than the upper limit and lower than the lower limit is an outlier"
   ]
  },
  {
   "cell_type": "code",
   "execution_count": 8,
   "id": "8e7c0340",
   "metadata": {},
   "outputs": [],
   "source": [
    "#We use Seaborn Library as using matplotlib we cannot ignore the missing values"
   ]
  },
  {
   "cell_type": "code",
   "execution_count": 9,
   "id": "351661a0",
   "metadata": {},
   "outputs": [],
   "source": [
    "import seaborn as sns"
   ]
  },
  {
   "cell_type": "code",
   "execution_count": 10,
   "id": "5635fe7f",
   "metadata": {},
   "outputs": [
    {
     "data": {
      "text/plain": [
       "<AxesSubplot:xlabel='Sale Price'>"
      ]
     },
     "execution_count": 10,
     "metadata": {},
     "output_type": "execute_result"
    },
    {
     "data": {
      "image/png": "[encoded data removed]",
      "text/plain": [
       "<Figure size 640x480 with 1 Axes>"
      ]
     },
     "metadata": {},
     "output_type": "display_data"
    }
   ],
   "source": [
    "sns.boxplot(x=Raw_housing_data['Sale Price'])"
   ]
  },
  {
   "cell_type": "code",
   "execution_count": 11,
   "id": "57a015b6",
   "metadata": {},
   "outputs": [],
   "source": [
    "#An outlier may also be cause by false data entry so we need to identify it and fix it\n",
    "#like A mansion with all facilities might go for 7 million\n",
    "#but a flat would go for 700k and by mistake while data entry mistake was make\n",
    "#and it bacame 7million so we need to fix it\n",
    "#still we need to treat all outliers as it may ruin our model"
   ]
  },
  {
   "cell_type": "code",
   "execution_count": 12,
   "id": "71bca8f8",
   "metadata": {},
   "outputs": [],
   "source": [
    "q1=Raw_housing_data['Sale Price'].quantile(0.25)\n",
    "q3=Raw_housing_data['Sale Price'].quantile(0.75)"
   ]
  },
  {
   "cell_type": "code",
   "execution_count": 13,
   "id": "a6086e7d",
   "metadata": {},
   "outputs": [],
   "source": [
    "iqr=q3-q1"
   ]
  },
  {
   "cell_type": "code",
   "execution_count": 14,
   "id": "9cf6c530",
   "metadata": {},
   "outputs": [
    {
     "data": {
      "text/plain": [
       "323050.0"
      ]
     },
     "execution_count": 14,
     "metadata": {},
     "output_type": "execute_result"
    }
   ],
   "source": [
    "iqr"
   ]
  },
  {
   "cell_type": "code",
   "execution_count": 15,
   "id": "aa576e2c",
   "metadata": {},
   "outputs": [
    {
     "data": {
      "text/plain": [
       "(1129575.0, -162625.0)"
      ]
     },
     "execution_count": 15,
     "metadata": {},
     "output_type": "execute_result"
    }
   ],
   "source": [
    "upper_limit=q3+1.5*iqr\n",
    "lower_limit=q1-1.5*iqr\n",
    "upper_limit,lower_limit"
   ]
  },
  {
   "cell_type": "code",
   "execution_count": 16,
   "id": "6e63f1d7",
   "metadata": {},
   "outputs": [],
   "source": [
    "#Treating using imputing method\n",
    "def limit_imputer(value):\n",
    "    if value>upper_limit:\n",
    "        return upper_limit\n",
    "    if value<lower_limit:\n",
    "        return lower_limit\n",
    "    else:\n",
    "        return value"
   ]
  },
  {
   "cell_type": "code",
   "execution_count": 17,
   "id": "5fe56cbe",
   "metadata": {},
   "outputs": [],
   "source": [
    "Raw_housing_data['Sale Price']=Raw_housing_data['Sale Price'].apply(limit_imputer)"
   ]
  },
  {
   "cell_type": "code",
   "execution_count": 18,
   "id": "cb48e07f",
   "metadata": {},
   "outputs": [
    {
     "data": {
      "text/plain": [
       "count    2.160900e+04\n",
       "mean     5.116186e+05\n",
       "std      2.500620e+05\n",
       "min      7.500000e+04\n",
       "25%      3.219500e+05\n",
       "50%      4.500000e+05\n",
       "75%      6.450000e+05\n",
       "max      1.129575e+06\n",
       "Name: Sale Price, dtype: float64"
      ]
     },
     "execution_count": 18,
     "metadata": {},
     "output_type": "execute_result"
    }
   ],
   "source": [
    "Raw_housing_data['Sale Price'].describe()"
   ]
  },
  {
   "cell_type": "code",
   "execution_count": 19,
   "id": "f4a1bc3a",
   "metadata": {},
   "outputs": [],
   "source": [
    "#Mean has become closer to median \n",
    "#max value is changed"
   ]
  },
  {
   "cell_type": "code",
   "execution_count": 20,
   "id": "77130bbe",
   "metadata": {},
   "outputs": [],
   "source": [
    "#Treating Missing values\n",
    "Raw_housing_data.dropna(inplace=True, axis=0, subset=['Sale Price'])"
   ]
  },
  {
   "cell_type": "code",
   "execution_count": 21,
   "id": "f2e016ba",
   "metadata": {},
   "outputs": [
    {
     "name": "stdout",
     "output_type": "stream",
     "text": [
      "<class 'pandas.core.frame.DataFrame'>\n",
      "Int64Index: 21609 entries, 0 to 21612\n",
      "Data columns (total 21 columns):\n",
      " #   Column                                     Non-Null Count  Dtype  \n",
      "---  ------                                     --------------  -----  \n",
      " 0   ID                                         21609 non-null  int64  \n",
      " 1   Date House was Sold                        21609 non-null  object \n",
      " 2   Sale Price                                 21609 non-null  float64\n",
      " 3   No of Bedrooms                             21609 non-null  int64  \n",
      " 4   No of Bathrooms                            21605 non-null  float64\n",
      " 5   Flat Area (in Sqft)                        21600 non-null  float64\n",
      " 6   Lot Area (in Sqft)                         21600 non-null  float64\n",
      " 7   No of Floors                               21609 non-null  float64\n",
      " 8   Waterfront View                            21609 non-null  object \n",
      " 9   No of Times Visited                        21609 non-null  object \n",
      " 10  Condition of the House                     21609 non-null  object \n",
      " 11  Overall Grade                              21609 non-null  int64  \n",
      " 12  Area of the House from Basement (in Sqft)  21606 non-null  float64\n",
      " 13  Basement Area (in Sqft)                    21609 non-null  int64  \n",
      " 14  Age of House (in Years)                    21609 non-null  int64  \n",
      " 15  Renovated Year                             21609 non-null  int64  \n",
      " 16  Zipcode                                    21608 non-null  float64\n",
      " 17  Latitude                                   21608 non-null  float64\n",
      " 18  Longitude                                  21608 non-null  float64\n",
      " 19  Living Area after Renovation (in Sqft)     21608 non-null  float64\n",
      " 20  Lot Area after Renovation (in Sqft)        21609 non-null  int64  \n",
      "dtypes: float64(10), int64(7), object(4)\n",
      "memory usage: 3.6+ MB\n"
     ]
    }
   ],
   "source": [
    "Raw_housing_data.info()"
   ]
  },
  {
   "cell_type": "code",
   "execution_count": 22,
   "id": "1e1b4c8e",
   "metadata": {},
   "outputs": [
    {
     "data": {
      "text/plain": [
       "(array([ 501., 3379., 4513., 3911., 3069., 1977., 1432.,  877.,  531.,\n",
       "        1419.]),\n",
       " array([  75000. ,  180457.5,  285915. ,  391372.5,  496830. ,  602287.5,\n",
       "         707745. ,  813202.5,  918660. , 1024117.5, 1129575. ]),\n",
       " <BarContainer object of 10 artists>)"
      ]
     },
     "execution_count": 22,
     "metadata": {},
     "output_type": "execute_result"
    },
    {
     "data": {
      "image/png": "[encoded data removed]",
      "text/plain": [
       "<Figure size 640x480 with 1 Axes>"
      ]
     },
     "metadata": {},
     "output_type": "display_data"
    }
   ],
   "source": [
    "plt.hist(Raw_housing_data['Sale Price'],bins=10,color='green')"
   ]
  },
  {
   "cell_type": "code",
   "execution_count": 23,
   "id": "ba7d2756",
   "metadata": {},
   "outputs": [],
   "source": [
    "#How to treat missing values in independent variables"
   ]
  },
  {
   "cell_type": "code",
   "execution_count": 24,
   "id": "da61dbf0",
   "metadata": {},
   "outputs": [],
   "source": [
    "Raw_housing_data=pd.read_csv('Raw_Housing_prices2.csv')"
   ]
  },
  {
   "cell_type": "code",
   "execution_count": 25,
   "id": "723864b3",
   "metadata": {},
   "outputs": [
    {
     "name": "stdout",
     "output_type": "stream",
     "text": [
      "<class 'pandas.core.frame.DataFrame'>\n",
      "RangeIndex: 21609 entries, 0 to 21608\n",
      "Data columns (total 21 columns):\n",
      " #   Column                                     Non-Null Count  Dtype  \n",
      "---  ------                                     --------------  -----  \n",
      " 0   ID                                         21609 non-null  int64  \n",
      " 1   Date House was Sold                        21609 non-null  object \n",
      " 2   Sale Price                                 21609 non-null  float64\n",
      " 3   No of Bedrooms                             21609 non-null  int64  \n",
      " 4   No of Bathrooms                            21605 non-null  float64\n",
      " 5   Flat Area (in Sqft)                        21600 non-null  float64\n",
      " 6   Lot Area (in Sqft)                         21600 non-null  float64\n",
      " 7   No of Floors                               21609 non-null  float64\n",
      " 8   Waterfront View                            21609 non-null  object \n",
      " 9   No of Times Visited                        21609 non-null  object \n",
      " 10  Condition of the House                     21609 non-null  object \n",
      " 11  Overall Grade                              21609 non-null  int64  \n",
      " 12  Area of the House from Basement (in Sqft)  21606 non-null  float64\n",
      " 13  Basement Area (in Sqft)                    21609 non-null  int64  \n",
      " 14  Age of House (in Years)                    21609 non-null  int64  \n",
      " 15  Renovated Year                             21609 non-null  int64  \n",
      " 16  Zipcode                                    21608 non-null  float64\n",
      " 17  Latitude                                   21608 non-null  float64\n",
      " 18  Longitude                                  21608 non-null  float64\n",
      " 19  Living Area after Renovation (in Sqft)     21608 non-null  float64\n",
      " 20  Lot Area after Renovation (in Sqft)        21609 non-null  int64  \n",
      "dtypes: float64(10), int64(7), object(4)\n",
      "memory usage: 3.5+ MB\n"
     ]
    }
   ],
   "source": [
    "Raw_housing_data.info()"
   ]
  },
  {
   "cell_type": "code",
   "execution_count": 26,
   "id": "d9a6bcda",
   "metadata": {},
   "outputs": [],
   "source": [
    "# we see in some coloumns values are missing \n",
    "# sp we impute all coloumns at once using imputer class from sklearn"
   ]
  },
  {
   "cell_type": "code",
   "execution_count": 27,
   "id": "9b50cea1",
   "metadata": {},
   "outputs": [],
   "source": [
    "numerical_coloumns=['No of Bathrooms','Flat Area (in Sqft)',\n",
    "                   'Lot Area (in Sqft)', 'Area of the House from Basement (in Sqft)',\n",
    "                   'Latitude','Longitude','Living Area after Renovation (in Sqft)']"
   ]
  },
  {
   "cell_type": "code",
   "execution_count": 28,
   "id": "8df02f72",
   "metadata": {},
   "outputs": [],
   "source": [
    "from sklearn.impute import SimpleImputer\n",
    "imputer = SimpleImputer(missing_values=np.nan,strategy='median')\n",
    "Raw_housing_data[numerical_coloumns]=imputer.fit_transform(Raw_housing_data[numerical_coloumns])"
   ]
  },
  {
   "cell_type": "code",
   "execution_count": 29,
   "id": "a49baecd",
   "metadata": {},
   "outputs": [
    {
     "name": "stdout",
     "output_type": "stream",
     "text": [
      "<class 'pandas.core.frame.DataFrame'>\n",
      "RangeIndex: 21609 entries, 0 to 21608\n",
      "Data columns (total 21 columns):\n",
      " #   Column                                     Non-Null Count  Dtype  \n",
      "---  ------                                     --------------  -----  \n",
      " 0   ID                                         21609 non-null  int64  \n",
      " 1   Date House was Sold                        21609 non-null  object \n",
      " 2   Sale Price                                 21609 non-null  float64\n",
      " 3   No of Bedrooms                             21609 non-null  int64  \n",
      " 4   No of Bathrooms                            21609 non-null  float64\n",
      " 5   Flat Area (in Sqft)                        21609 non-null  float64\n",
      " 6   Lot Area (in Sqft)                         21609 non-null  float64\n",
      " 7   No of Floors                               21609 non-null  float64\n",
      " 8   Waterfront View                            21609 non-null  object \n",
      " 9   No of Times Visited                        21609 non-null  object \n",
      " 10  Condition of the House                     21609 non-null  object \n",
      " 11  Overall Grade                              21609 non-null  int64  \n",
      " 12  Area of the House from Basement (in Sqft)  21609 non-null  float64\n",
      " 13  Basement Area (in Sqft)                    21609 non-null  int64  \n",
      " 14  Age of House (in Years)                    21609 non-null  int64  \n",
      " 15  Renovated Year                             21609 non-null  int64  \n",
      " 16  Zipcode                                    21608 non-null  float64\n",
      " 17  Latitude                                   21609 non-null  float64\n",
      " 18  Longitude                                  21609 non-null  float64\n",
      " 19  Living Area after Renovation (in Sqft)     21609 non-null  float64\n",
      " 20  Lot Area after Renovation (in Sqft)        21609 non-null  int64  \n",
      "dtypes: float64(10), int64(7), object(4)\n",
      "memory usage: 3.5+ MB\n"
     ]
    }
   ],
   "source": [
    "Raw_housing_data.info()"
   ]
  },
  {
   "cell_type": "code",
   "execution_count": 30,
   "id": "b0ff52ee",
   "metadata": {},
   "outputs": [
    {
     "ename": "ValueError",
     "evalue": "Expected 2D array, got 1D array instead:\narray=[98178. 98125. 98028. ... 98144. 98027. 98144.].\nReshape your data either using array.reshape(-1, 1) if your data has a single feature or array.reshape(1, -1) if it contains a single sample.",
     "output_type": "error",
     "traceback": [
      "\u001b[1;31m---------------------------------------------------------------------------\u001b[0m",
      "\u001b[1;31mValueError\u001b[0m                                Traceback (most recent call last)",
      "\u001b[1;32m~\\AppData\\Local\\Temp\\ipykernel_11736\\2137183426.py\u001b[0m in \u001b[0;36m<module>\u001b[1;34m\u001b[0m\n\u001b[0;32m      1\u001b[0m \u001b[1;31m#Now we reshape the ZipCode which is a categorical coloumn\u001b[0m\u001b[1;33m\u001b[0m\u001b[1;33m\u001b[0m\u001b[0m\n\u001b[0;32m      2\u001b[0m \u001b[0mimputer\u001b[0m \u001b[1;33m=\u001b[0m \u001b[0mSimpleImputer\u001b[0m\u001b[1;33m(\u001b[0m\u001b[0mmissing_values\u001b[0m\u001b[1;33m=\u001b[0m\u001b[0mnp\u001b[0m\u001b[1;33m.\u001b[0m\u001b[0mnan\u001b[0m\u001b[1;33m,\u001b[0m\u001b[0mstrategy\u001b[0m\u001b[1;33m=\u001b[0m\u001b[1;34m'most_frequent'\u001b[0m\u001b[1;33m)\u001b[0m\u001b[1;33m\u001b[0m\u001b[1;33m\u001b[0m\u001b[0m\n\u001b[1;32m----> 3\u001b[1;33m \u001b[0mRaw_housing_data\u001b[0m\u001b[1;33m[\u001b[0m\u001b[1;34m'Zipcode'\u001b[0m\u001b[1;33m]\u001b[0m\u001b[1;33m=\u001b[0m\u001b[0mimputer\u001b[0m\u001b[1;33m.\u001b[0m\u001b[0mfit_transform\u001b[0m\u001b[1;33m(\u001b[0m\u001b[0mRaw_housing_data\u001b[0m\u001b[1;33m[\u001b[0m\u001b[1;34m'Zipcode'\u001b[0m\u001b[1;33m]\u001b[0m\u001b[1;33m)\u001b[0m\u001b[1;33m\u001b[0m\u001b[1;33m\u001b[0m\u001b[0m\n\u001b[0m",
      "\u001b[1;32mC:\\Anaconda\\lib\\site-packages\\sklearn\\base.py\u001b[0m in \u001b[0;36mfit_transform\u001b[1;34m(self, X, y, **fit_params)\u001b[0m\n\u001b[0;32m    850\u001b[0m         \u001b[1;32mif\u001b[0m \u001b[0my\u001b[0m \u001b[1;32mis\u001b[0m \u001b[1;32mNone\u001b[0m\u001b[1;33m:\u001b[0m\u001b[1;33m\u001b[0m\u001b[1;33m\u001b[0m\u001b[0m\n\u001b[0;32m    851\u001b[0m             \u001b[1;31m# fit method of arity 1 (unsupervised transformation)\u001b[0m\u001b[1;33m\u001b[0m\u001b[1;33m\u001b[0m\u001b[0m\n\u001b[1;32m--> 852\u001b[1;33m             \u001b[1;32mreturn\u001b[0m \u001b[0mself\u001b[0m\u001b[1;33m.\u001b[0m\u001b[0mfit\u001b[0m\u001b[1;33m(\u001b[0m\u001b[0mX\u001b[0m\u001b[1;33m,\u001b[0m \u001b[1;33m**\u001b[0m\u001b[0mfit_params\u001b[0m\u001b[1;33m)\u001b[0m\u001b[1;33m.\u001b[0m\u001b[0mtransform\u001b[0m\u001b[1;33m(\u001b[0m\u001b[0mX\u001b[0m\u001b[1;33m)\u001b[0m\u001b[1;33m\u001b[0m\u001b[1;33m\u001b[0m\u001b[0m\n\u001b[0m\u001b[0;32m    853\u001b[0m         \u001b[1;32melse\u001b[0m\u001b[1;33m:\u001b[0m\u001b[1;33m\u001b[0m\u001b[1;33m\u001b[0m\u001b[0m\n\u001b[0;32m    854\u001b[0m             \u001b[1;31m# fit method of arity 2 (supervised transformation)\u001b[0m\u001b[1;33m\u001b[0m\u001b[1;33m\u001b[0m\u001b[0m\n",
      "\u001b[1;32mC:\\Anaconda\\lib\\site-packages\\sklearn\\impute\\_base.py\u001b[0m in \u001b[0;36mfit\u001b[1;34m(self, X, y)\u001b[0m\n\u001b[0;32m    317\u001b[0m             \u001b[0mFitted\u001b[0m \u001b[0mestimator\u001b[0m\u001b[1;33m.\u001b[0m\u001b[1;33m\u001b[0m\u001b[1;33m\u001b[0m\u001b[0m\n\u001b[0;32m    318\u001b[0m         \"\"\"\n\u001b[1;32m--> 319\u001b[1;33m         \u001b[0mX\u001b[0m \u001b[1;33m=\u001b[0m \u001b[0mself\u001b[0m\u001b[1;33m.\u001b[0m\u001b[0m_validate_input\u001b[0m\u001b[1;33m(\u001b[0m\u001b[0mX\u001b[0m\u001b[1;33m,\u001b[0m \u001b[0min_fit\u001b[0m\u001b[1;33m=\u001b[0m\u001b[1;32mTrue\u001b[0m\u001b[1;33m)\u001b[0m\u001b[1;33m\u001b[0m\u001b[1;33m\u001b[0m\u001b[0m\n\u001b[0m\u001b[0;32m    320\u001b[0m \u001b[1;33m\u001b[0m\u001b[0m\n\u001b[0;32m    321\u001b[0m         \u001b[1;31m# default fill_value is 0 for numerical input and \"missing_value\"\u001b[0m\u001b[1;33m\u001b[0m\u001b[1;33m\u001b[0m\u001b[0m\n",
      "\u001b[1;32mC:\\Anaconda\\lib\\site-packages\\sklearn\\impute\\_base.py\u001b[0m in \u001b[0;36m_validate_input\u001b[1;34m(self, X, in_fit)\u001b[0m\n\u001b[0;32m    285\u001b[0m                 \u001b[1;32mraise\u001b[0m \u001b[0mnew_ve\u001b[0m \u001b[1;32mfrom\u001b[0m \u001b[1;32mNone\u001b[0m\u001b[1;33m\u001b[0m\u001b[1;33m\u001b[0m\u001b[0m\n\u001b[0;32m    286\u001b[0m             \u001b[1;32melse\u001b[0m\u001b[1;33m:\u001b[0m\u001b[1;33m\u001b[0m\u001b[1;33m\u001b[0m\u001b[0m\n\u001b[1;32m--> 287\u001b[1;33m                 \u001b[1;32mraise\u001b[0m \u001b[0mve\u001b[0m\u001b[1;33m\u001b[0m\u001b[1;33m\u001b[0m\u001b[0m\n\u001b[0m\u001b[0;32m    288\u001b[0m \u001b[1;33m\u001b[0m\u001b[0m\n\u001b[0;32m    289\u001b[0m         \u001b[0m_check_inputs_dtype\u001b[0m\u001b[1;33m(\u001b[0m\u001b[0mX\u001b[0m\u001b[1;33m,\u001b[0m \u001b[0mself\u001b[0m\u001b[1;33m.\u001b[0m\u001b[0mmissing_values\u001b[0m\u001b[1;33m)\u001b[0m\u001b[1;33m\u001b[0m\u001b[1;33m\u001b[0m\u001b[0m\n",
      "\u001b[1;32mC:\\Anaconda\\lib\\site-packages\\sklearn\\impute\\_base.py\u001b[0m in \u001b[0;36m_validate_input\u001b[1;34m(self, X, in_fit)\u001b[0m\n\u001b[0;32m    268\u001b[0m \u001b[1;33m\u001b[0m\u001b[0m\n\u001b[0;32m    269\u001b[0m         \u001b[1;32mtry\u001b[0m\u001b[1;33m:\u001b[0m\u001b[1;33m\u001b[0m\u001b[1;33m\u001b[0m\u001b[0m\n\u001b[1;32m--> 270\u001b[1;33m             X = self._validate_data(\n\u001b[0m\u001b[0;32m    271\u001b[0m                 \u001b[0mX\u001b[0m\u001b[1;33m,\u001b[0m\u001b[1;33m\u001b[0m\u001b[1;33m\u001b[0m\u001b[0m\n\u001b[0;32m    272\u001b[0m                 \u001b[0mreset\u001b[0m\u001b[1;33m=\u001b[0m\u001b[0min_fit\u001b[0m\u001b[1;33m,\u001b[0m\u001b[1;33m\u001b[0m\u001b[1;33m\u001b[0m\u001b[0m\n",
      "\u001b[1;32mC:\\Anaconda\\lib\\site-packages\\sklearn\\base.py\u001b[0m in \u001b[0;36m_validate_data\u001b[1;34m(self, X, y, reset, validate_separately, **check_params)\u001b[0m\n\u001b[0;32m    564\u001b[0m             \u001b[1;32mraise\u001b[0m \u001b[0mValueError\u001b[0m\u001b[1;33m(\u001b[0m\u001b[1;34m\"Validation should be done on X, y or both.\"\u001b[0m\u001b[1;33m)\u001b[0m\u001b[1;33m\u001b[0m\u001b[1;33m\u001b[0m\u001b[0m\n\u001b[0;32m    565\u001b[0m         \u001b[1;32melif\u001b[0m \u001b[1;32mnot\u001b[0m \u001b[0mno_val_X\u001b[0m \u001b[1;32mand\u001b[0m \u001b[0mno_val_y\u001b[0m\u001b[1;33m:\u001b[0m\u001b[1;33m\u001b[0m\u001b[1;33m\u001b[0m\u001b[0m\n\u001b[1;32m--> 566\u001b[1;33m             \u001b[0mX\u001b[0m \u001b[1;33m=\u001b[0m \u001b[0mcheck_array\u001b[0m\u001b[1;33m(\u001b[0m\u001b[0mX\u001b[0m\u001b[1;33m,\u001b[0m \u001b[1;33m**\u001b[0m\u001b[0mcheck_params\u001b[0m\u001b[1;33m)\u001b[0m\u001b[1;33m\u001b[0m\u001b[1;33m\u001b[0m\u001b[0m\n\u001b[0m\u001b[0;32m    567\u001b[0m             \u001b[0mout\u001b[0m \u001b[1;33m=\u001b[0m \u001b[0mX\u001b[0m\u001b[1;33m\u001b[0m\u001b[1;33m\u001b[0m\u001b[0m\n\u001b[0;32m    568\u001b[0m         \u001b[1;32melif\u001b[0m \u001b[0mno_val_X\u001b[0m \u001b[1;32mand\u001b[0m \u001b[1;32mnot\u001b[0m \u001b[0mno_val_y\u001b[0m\u001b[1;33m:\u001b[0m\u001b[1;33m\u001b[0m\u001b[1;33m\u001b[0m\u001b[0m\n",
      "\u001b[1;32mC:\\Anaconda\\lib\\site-packages\\sklearn\\utils\\validation.py\u001b[0m in \u001b[0;36mcheck_array\u001b[1;34m(array, accept_sparse, accept_large_sparse, dtype, order, copy, force_all_finite, ensure_2d, allow_nd, ensure_min_samples, ensure_min_features, estimator)\u001b[0m\n\u001b[0;32m    767\u001b[0m             \u001b[1;31m# If input is 1D raise error\u001b[0m\u001b[1;33m\u001b[0m\u001b[1;33m\u001b[0m\u001b[0m\n\u001b[0;32m    768\u001b[0m             \u001b[1;32mif\u001b[0m \u001b[0marray\u001b[0m\u001b[1;33m.\u001b[0m\u001b[0mndim\u001b[0m \u001b[1;33m==\u001b[0m \u001b[1;36m1\u001b[0m\u001b[1;33m:\u001b[0m\u001b[1;33m\u001b[0m\u001b[1;33m\u001b[0m\u001b[0m\n\u001b[1;32m--> 769\u001b[1;33m                 raise ValueError(\n\u001b[0m\u001b[0;32m    770\u001b[0m                     \u001b[1;34m\"Expected 2D array, got 1D array instead:\\narray={}.\\n\"\u001b[0m\u001b[1;33m\u001b[0m\u001b[1;33m\u001b[0m\u001b[0m\n\u001b[0;32m    771\u001b[0m                     \u001b[1;34m\"Reshape your data either using array.reshape(-1, 1) if \"\u001b[0m\u001b[1;33m\u001b[0m\u001b[1;33m\u001b[0m\u001b[0m\n",
      "\u001b[1;31mValueError\u001b[0m: Expected 2D array, got 1D array instead:\narray=[98178. 98125. 98028. ... 98144. 98027. 98144.].\nReshape your data either using array.reshape(-1, 1) if your data has a single feature or array.reshape(1, -1) if it contains a single sample."
     ]
    }
   ],
   "source": [
    "#Now we reshape the ZipCode which is a categorical coloumn\n",
    "imputer = SimpleImputer(missing_values=np.nan,strategy='most_frequent')\n",
    "Raw_housing_data['Zipcode']=imputer.fit_transform(Raw_housing_data['Zipcode'])"
   ]
  },
  {
   "cell_type": "code",
   "execution_count": 31,
   "id": "738c3d72",
   "metadata": {},
   "outputs": [
    {
     "data": {
      "text/plain": [
       "(21609,)"
      ]
     },
     "execution_count": 31,
     "metadata": {},
     "output_type": "execute_result"
    }
   ],
   "source": [
    "Raw_housing_data['Zipcode'].shape"
   ]
  },
  {
   "cell_type": "code",
   "execution_count": 32,
   "id": "d00800e1",
   "metadata": {},
   "outputs": [],
   "source": [
    "#It expects 2d array as we need to reshape it"
   ]
  },
  {
   "cell_type": "code",
   "execution_count": 33,
   "id": "05b2ff55",
   "metadata": {},
   "outputs": [
    {
     "data": {
      "text/plain": [
       "(21609, 1)"
      ]
     },
     "execution_count": 33,
     "metadata": {},
     "output_type": "execute_result"
    }
   ],
   "source": [
    "coloumn=Raw_housing_data['Zipcode'].values.reshape(-1,1)\n",
    "#-1 means it will adjust rows accordingly, format is reshape(rows,coloumns)\n",
    "coloumn.shape"
   ]
  },
  {
   "cell_type": "code",
   "execution_count": 34,
   "id": "b2d57597",
   "metadata": {},
   "outputs": [
    {
     "name": "stderr",
     "output_type": "stream",
     "text": [
      "C:\\Anaconda\\lib\\site-packages\\sklearn\\impute\\_base.py:49: FutureWarning: Unlike other reduction functions (e.g. `skew`, `kurtosis`), the default behavior of `mode` typically preserves the axis it acts along. In SciPy 1.11.0, this behavior will change: the default value of `keepdims` will become False, the `axis` over which the statistic is taken will be eliminated, and the value None will no longer be accepted. Set `keepdims` to True or False to avoid this warning.\n",
      "  mode = stats.mode(array)\n"
     ]
    }
   ],
   "source": [
    "imputer = SimpleImputer(missing_values=np.nan,strategy='most_frequent')\n",
    "Raw_housing_data['Zipcode']=imputer.fit_transform(coloumn)"
   ]
  },
  {
   "cell_type": "code",
   "execution_count": 35,
   "id": "21360a59",
   "metadata": {},
   "outputs": [
    {
     "name": "stdout",
     "output_type": "stream",
     "text": [
      "<class 'pandas.core.frame.DataFrame'>\n",
      "RangeIndex: 21609 entries, 0 to 21608\n",
      "Data columns (total 21 columns):\n",
      " #   Column                                     Non-Null Count  Dtype  \n",
      "---  ------                                     --------------  -----  \n",
      " 0   ID                                         21609 non-null  int64  \n",
      " 1   Date House was Sold                        21609 non-null  object \n",
      " 2   Sale Price                                 21609 non-null  float64\n",
      " 3   No of Bedrooms                             21609 non-null  int64  \n",
      " 4   No of Bathrooms                            21609 non-null  float64\n",
      " 5   Flat Area (in Sqft)                        21609 non-null  float64\n",
      " 6   Lot Area (in Sqft)                         21609 non-null  float64\n",
      " 7   No of Floors                               21609 non-null  float64\n",
      " 8   Waterfront View                            21609 non-null  object \n",
      " 9   No of Times Visited                        21609 non-null  object \n",
      " 10  Condition of the House                     21609 non-null  object \n",
      " 11  Overall Grade                              21609 non-null  int64  \n",
      " 12  Area of the House from Basement (in Sqft)  21609 non-null  float64\n",
      " 13  Basement Area (in Sqft)                    21609 non-null  int64  \n",
      " 14  Age of House (in Years)                    21609 non-null  int64  \n",
      " 15  Renovated Year                             21609 non-null  int64  \n",
      " 16  Zipcode                                    21609 non-null  float64\n",
      " 17  Latitude                                   21609 non-null  float64\n",
      " 18  Longitude                                  21609 non-null  float64\n",
      " 19  Living Area after Renovation (in Sqft)     21609 non-null  float64\n",
      " 20  Lot Area after Renovation (in Sqft)        21609 non-null  int64  \n",
      "dtypes: float64(10), int64(7), object(4)\n",
      "memory usage: 3.5+ MB\n"
     ]
    }
   ],
   "source": [
    "Raw_housing_data.info()"
   ]
  },
  {
   "cell_type": "code",
   "execution_count": 36,
   "id": "91061648",
   "metadata": {},
   "outputs": [],
   "source": [
    "#We convert zipcode to numerical datatype to find relation with house price"
   ]
  },
  {
   "cell_type": "code",
   "execution_count": 37,
   "id": "98fceb92",
   "metadata": {},
   "outputs": [],
   "source": [
    "Raw_housing_data['Zipcode']=Raw_housing_data['Zipcode'].astype(object)"
   ]
  },
  {
   "cell_type": "code",
   "execution_count": 38,
   "id": "d054bdec",
   "metadata": {},
   "outputs": [
    {
     "data": {
      "text/plain": [
       "ID                                             int64\n",
       "Date House was Sold                           object\n",
       "Sale Price                                   float64\n",
       "No of Bedrooms                                 int64\n",
       "No of Bathrooms                              float64\n",
       "Flat Area (in Sqft)                          float64\n",
       "Lot Area (in Sqft)                           float64\n",
       "No of Floors                                 float64\n",
       "Waterfront View                               object\n",
       "No of Times Visited                           object\n",
       "Condition of the House                        object\n",
       "Overall Grade                                  int64\n",
       "Area of the House from Basement (in Sqft)    float64\n",
       "Basement Area (in Sqft)                        int64\n",
       "Age of House (in Years)                        int64\n",
       "Renovated Year                                 int64\n",
       "Zipcode                                       object\n",
       "Latitude                                     float64\n",
       "Longitude                                    float64\n",
       "Living Area after Renovation (in Sqft)       float64\n",
       "Lot Area after Renovation (in Sqft)            int64\n",
       "dtype: object"
      ]
     },
     "execution_count": 38,
     "metadata": {},
     "output_type": "execute_result"
    }
   ],
   "source": [
    "Raw_housing_data.dtypes"
   ]
  },
  {
   "cell_type": "code",
   "execution_count": 42,
   "id": "6df4dfa2",
   "metadata": {},
   "outputs": [],
   "source": [
    "#Renovated house may also affect price so...\n",
    "Raw_housing_data['Ever Renovate']=np.where(Raw_housing_data['Renovated Year']==0,'No','Yes')\n",
    "#if condition is true return first i.e no else yes"
   ]
  },
  {
   "cell_type": "code",
   "execution_count": 43,
   "id": "b69613c8",
   "metadata": {},
   "outputs": [
    {
     "data": {
      "text/html": [
       "<div>\n",
       "<style scoped>\n",
       "    .dataframe tbody tr th:only-of-type {\n",
       "        vertical-align: middle;\n",
       "    }\n",
       "\n",
       "    .dataframe tbody tr th {\n",
       "        vertical-align: top;\n",
       "    }\n",
       "\n",
       "    .dataframe thead th {\n",
       "        text-align: right;\n",
       "    }\n",
       "</style>\n",
       "<table border=\"1\" class=\"dataframe\">\n",
       "  <thead>\n",
       "    <tr style=\"text-align: right;\">\n",
       "      <th></th>\n",
       "      <th>ID</th>\n",
       "      <th>Date House was Sold</th>\n",
       "      <th>Sale Price</th>\n",
       "      <th>No of Bedrooms</th>\n",
       "      <th>No of Bathrooms</th>\n",
       "      <th>Flat Area (in Sqft)</th>\n",
       "      <th>Lot Area (in Sqft)</th>\n",
       "      <th>No of Floors</th>\n",
       "      <th>Waterfront View</th>\n",
       "      <th>No of Times Visited</th>\n",
       "      <th>...</th>\n",
       "      <th>Area of the House from Basement (in Sqft)</th>\n",
       "      <th>Basement Area (in Sqft)</th>\n",
       "      <th>Age of House (in Years)</th>\n",
       "      <th>Renovated Year</th>\n",
       "      <th>Zipcode</th>\n",
       "      <th>Latitude</th>\n",
       "      <th>Longitude</th>\n",
       "      <th>Living Area after Renovation (in Sqft)</th>\n",
       "      <th>Lot Area after Renovation (in Sqft)</th>\n",
       "      <th>Ever Renovate</th>\n",
       "    </tr>\n",
       "  </thead>\n",
       "  <tbody>\n",
       "    <tr>\n",
       "      <th>0</th>\n",
       "      <td>7129300520</td>\n",
       "      <td>14 October 2017</td>\n",
       "      <td>221900.0</td>\n",
       "      <td>3</td>\n",
       "      <td>1.00</td>\n",
       "      <td>1180.0</td>\n",
       "      <td>5650.0</td>\n",
       "      <td>1.0</td>\n",
       "      <td>No</td>\n",
       "      <td>None</td>\n",
       "      <td>...</td>\n",
       "      <td>1180.0</td>\n",
       "      <td>0</td>\n",
       "      <td>63</td>\n",
       "      <td>0</td>\n",
       "      <td>98178.0</td>\n",
       "      <td>47.5112</td>\n",
       "      <td>-122.257</td>\n",
       "      <td>1340.0</td>\n",
       "      <td>5650</td>\n",
       "      <td>No</td>\n",
       "    </tr>\n",
       "    <tr>\n",
       "      <th>1</th>\n",
       "      <td>6414100192</td>\n",
       "      <td>14 December 2017</td>\n",
       "      <td>538000.0</td>\n",
       "      <td>3</td>\n",
       "      <td>2.25</td>\n",
       "      <td>2570.0</td>\n",
       "      <td>7242.0</td>\n",
       "      <td>2.0</td>\n",
       "      <td>No</td>\n",
       "      <td>None</td>\n",
       "      <td>...</td>\n",
       "      <td>2170.0</td>\n",
       "      <td>400</td>\n",
       "      <td>67</td>\n",
       "      <td>1991</td>\n",
       "      <td>98125.0</td>\n",
       "      <td>47.7210</td>\n",
       "      <td>-122.319</td>\n",
       "      <td>1690.0</td>\n",
       "      <td>7639</td>\n",
       "      <td>Yes</td>\n",
       "    </tr>\n",
       "    <tr>\n",
       "      <th>2</th>\n",
       "      <td>5631500400</td>\n",
       "      <td>15 February 2016</td>\n",
       "      <td>180000.0</td>\n",
       "      <td>2</td>\n",
       "      <td>1.00</td>\n",
       "      <td>770.0</td>\n",
       "      <td>10000.0</td>\n",
       "      <td>1.0</td>\n",
       "      <td>No</td>\n",
       "      <td>None</td>\n",
       "      <td>...</td>\n",
       "      <td>770.0</td>\n",
       "      <td>0</td>\n",
       "      <td>85</td>\n",
       "      <td>0</td>\n",
       "      <td>98028.0</td>\n",
       "      <td>47.7379</td>\n",
       "      <td>-122.233</td>\n",
       "      <td>2720.0</td>\n",
       "      <td>8062</td>\n",
       "      <td>No</td>\n",
       "    </tr>\n",
       "    <tr>\n",
       "      <th>3</th>\n",
       "      <td>2487200875</td>\n",
       "      <td>14 December 2017</td>\n",
       "      <td>604000.0</td>\n",
       "      <td>4</td>\n",
       "      <td>3.00</td>\n",
       "      <td>1960.0</td>\n",
       "      <td>5000.0</td>\n",
       "      <td>1.0</td>\n",
       "      <td>No</td>\n",
       "      <td>None</td>\n",
       "      <td>...</td>\n",
       "      <td>1050.0</td>\n",
       "      <td>910</td>\n",
       "      <td>53</td>\n",
       "      <td>0</td>\n",
       "      <td>98136.0</td>\n",
       "      <td>47.5208</td>\n",
       "      <td>-122.393</td>\n",
       "      <td>1360.0</td>\n",
       "      <td>5000</td>\n",
       "      <td>No</td>\n",
       "    </tr>\n",
       "    <tr>\n",
       "      <th>4</th>\n",
       "      <td>1954400510</td>\n",
       "      <td>15 February 2016</td>\n",
       "      <td>510000.0</td>\n",
       "      <td>3</td>\n",
       "      <td>2.00</td>\n",
       "      <td>1680.0</td>\n",
       "      <td>8080.0</td>\n",
       "      <td>1.0</td>\n",
       "      <td>No</td>\n",
       "      <td>None</td>\n",
       "      <td>...</td>\n",
       "      <td>1680.0</td>\n",
       "      <td>0</td>\n",
       "      <td>31</td>\n",
       "      <td>0</td>\n",
       "      <td>98074.0</td>\n",
       "      <td>47.6168</td>\n",
       "      <td>-122.045</td>\n",
       "      <td>1800.0</td>\n",
       "      <td>7503</td>\n",
       "      <td>No</td>\n",
       "    </tr>\n",
       "  </tbody>\n",
       "</table>\n",
       "<p>5 rows × 22 columns</p>\n",
       "</div>"
      ],
      "text/plain": [
       "           ID Date House was Sold  Sale Price  No of Bedrooms  \\\n",
       "0  7129300520     14 October 2017    221900.0               3   \n",
       "1  6414100192    14 December 2017    538000.0               3   \n",
       "2  5631500400    15 February 2016    180000.0               2   \n",
       "3  2487200875    14 December 2017    604000.0               4   \n",
       "4  1954400510    15 February 2016    510000.0               3   \n",
       "\n",
       "   No of Bathrooms  Flat Area (in Sqft)  Lot Area (in Sqft)  No of Floors  \\\n",
       "0             1.00               1180.0              5650.0           1.0   \n",
       "1             2.25               2570.0              7242.0           2.0   \n",
       "2             1.00                770.0             10000.0           1.0   \n",
       "3             3.00               1960.0              5000.0           1.0   \n",
       "4             2.00               1680.0              8080.0           1.0   \n",
       "\n",
       "  Waterfront View No of Times Visited  ...  \\\n",
       "0              No                None  ...   \n",
       "1              No                None  ...   \n",
       "2              No                None  ...   \n",
       "3              No                None  ...   \n",
       "4              No                None  ...   \n",
       "\n",
       "  Area of the House from Basement (in Sqft)  Basement Area (in Sqft)  \\\n",
       "0                                    1180.0                        0   \n",
       "1                                    2170.0                      400   \n",
       "2                                     770.0                        0   \n",
       "3                                    1050.0                      910   \n",
       "4                                    1680.0                        0   \n",
       "\n",
       "   Age of House (in Years)  Renovated Year  Zipcode  Latitude Longitude  \\\n",
       "0                       63               0  98178.0   47.5112  -122.257   \n",
       "1                       67            1991  98125.0   47.7210  -122.319   \n",
       "2                       85               0  98028.0   47.7379  -122.233   \n",
       "3                       53               0  98136.0   47.5208  -122.393   \n",
       "4                       31               0  98074.0   47.6168  -122.045   \n",
       "\n",
       "   Living Area after Renovation (in Sqft)  \\\n",
       "0                                  1340.0   \n",
       "1                                  1690.0   \n",
       "2                                  2720.0   \n",
       "3                                  1360.0   \n",
       "4                                  1800.0   \n",
       "\n",
       "   Lot Area after Renovation (in Sqft)  Ever Renovate  \n",
       "0                                 5650             No  \n",
       "1                                 7639            Yes  \n",
       "2                                 8062             No  \n",
       "3                                 5000             No  \n",
       "4                                 7503             No  \n",
       "\n",
       "[5 rows x 22 columns]"
      ]
     },
     "execution_count": 43,
     "metadata": {},
     "output_type": "execute_result"
    }
   ],
   "source": [
    "Raw_housing_data.head()"
   ]
  },
  {
   "cell_type": "code",
   "execution_count": 46,
   "id": "7fffa593",
   "metadata": {},
   "outputs": [],
   "source": [
    "#To remove some coloumns as we dont need them\n",
    "Raw_housing_data.drop(columns=[ 'Date House was Sold', 'Renovated Year'],inplace=True)"
   ]
  },
  {
   "cell_type": "code",
   "execution_count": 47,
   "id": "81179608",
   "metadata": {},
   "outputs": [
    {
     "data": {
      "text/html": [
       "<div>\n",
       "<style scoped>\n",
       "    .dataframe tbody tr th:only-of-type {\n",
       "        vertical-align: middle;\n",
       "    }\n",
       "\n",
       "    .dataframe tbody tr th {\n",
       "        vertical-align: top;\n",
       "    }\n",
       "\n",
       "    .dataframe thead th {\n",
       "        text-align: right;\n",
       "    }\n",
       "</style>\n",
       "<table border=\"1\" class=\"dataframe\">\n",
       "  <thead>\n",
       "    <tr style=\"text-align: right;\">\n",
       "      <th></th>\n",
       "      <th>ID</th>\n",
       "      <th>Sale Price</th>\n",
       "      <th>No of Bedrooms</th>\n",
       "      <th>No of Bathrooms</th>\n",
       "      <th>Flat Area (in Sqft)</th>\n",
       "      <th>Lot Area (in Sqft)</th>\n",
       "      <th>No of Floors</th>\n",
       "      <th>Waterfront View</th>\n",
       "      <th>No of Times Visited</th>\n",
       "      <th>Condition of the House</th>\n",
       "      <th>Overall Grade</th>\n",
       "      <th>Area of the House from Basement (in Sqft)</th>\n",
       "      <th>Basement Area (in Sqft)</th>\n",
       "      <th>Age of House (in Years)</th>\n",
       "      <th>Zipcode</th>\n",
       "      <th>Latitude</th>\n",
       "      <th>Longitude</th>\n",
       "      <th>Living Area after Renovation (in Sqft)</th>\n",
       "      <th>Lot Area after Renovation (in Sqft)</th>\n",
       "      <th>Ever Renovate</th>\n",
       "    </tr>\n",
       "  </thead>\n",
       "  <tbody>\n",
       "    <tr>\n",
       "      <th>0</th>\n",
       "      <td>7129300520</td>\n",
       "      <td>221900.0</td>\n",
       "      <td>3</td>\n",
       "      <td>1.00</td>\n",
       "      <td>1180.0</td>\n",
       "      <td>5650.0</td>\n",
       "      <td>1.0</td>\n",
       "      <td>No</td>\n",
       "      <td>None</td>\n",
       "      <td>Fair</td>\n",
       "      <td>7</td>\n",
       "      <td>1180.0</td>\n",
       "      <td>0</td>\n",
       "      <td>63</td>\n",
       "      <td>98178.0</td>\n",
       "      <td>47.5112</td>\n",
       "      <td>-122.257</td>\n",
       "      <td>1340.0</td>\n",
       "      <td>5650</td>\n",
       "      <td>No</td>\n",
       "    </tr>\n",
       "    <tr>\n",
       "      <th>1</th>\n",
       "      <td>6414100192</td>\n",
       "      <td>538000.0</td>\n",
       "      <td>3</td>\n",
       "      <td>2.25</td>\n",
       "      <td>2570.0</td>\n",
       "      <td>7242.0</td>\n",
       "      <td>2.0</td>\n",
       "      <td>No</td>\n",
       "      <td>None</td>\n",
       "      <td>Fair</td>\n",
       "      <td>7</td>\n",
       "      <td>2170.0</td>\n",
       "      <td>400</td>\n",
       "      <td>67</td>\n",
       "      <td>98125.0</td>\n",
       "      <td>47.7210</td>\n",
       "      <td>-122.319</td>\n",
       "      <td>1690.0</td>\n",
       "      <td>7639</td>\n",
       "      <td>Yes</td>\n",
       "    </tr>\n",
       "    <tr>\n",
       "      <th>2</th>\n",
       "      <td>5631500400</td>\n",
       "      <td>180000.0</td>\n",
       "      <td>2</td>\n",
       "      <td>1.00</td>\n",
       "      <td>770.0</td>\n",
       "      <td>10000.0</td>\n",
       "      <td>1.0</td>\n",
       "      <td>No</td>\n",
       "      <td>None</td>\n",
       "      <td>Fair</td>\n",
       "      <td>6</td>\n",
       "      <td>770.0</td>\n",
       "      <td>0</td>\n",
       "      <td>85</td>\n",
       "      <td>98028.0</td>\n",
       "      <td>47.7379</td>\n",
       "      <td>-122.233</td>\n",
       "      <td>2720.0</td>\n",
       "      <td>8062</td>\n",
       "      <td>No</td>\n",
       "    </tr>\n",
       "    <tr>\n",
       "      <th>3</th>\n",
       "      <td>2487200875</td>\n",
       "      <td>604000.0</td>\n",
       "      <td>4</td>\n",
       "      <td>3.00</td>\n",
       "      <td>1960.0</td>\n",
       "      <td>5000.0</td>\n",
       "      <td>1.0</td>\n",
       "      <td>No</td>\n",
       "      <td>None</td>\n",
       "      <td>Excellent</td>\n",
       "      <td>7</td>\n",
       "      <td>1050.0</td>\n",
       "      <td>910</td>\n",
       "      <td>53</td>\n",
       "      <td>98136.0</td>\n",
       "      <td>47.5208</td>\n",
       "      <td>-122.393</td>\n",
       "      <td>1360.0</td>\n",
       "      <td>5000</td>\n",
       "      <td>No</td>\n",
       "    </tr>\n",
       "    <tr>\n",
       "      <th>4</th>\n",
       "      <td>1954400510</td>\n",
       "      <td>510000.0</td>\n",
       "      <td>3</td>\n",
       "      <td>2.00</td>\n",
       "      <td>1680.0</td>\n",
       "      <td>8080.0</td>\n",
       "      <td>1.0</td>\n",
       "      <td>No</td>\n",
       "      <td>None</td>\n",
       "      <td>Fair</td>\n",
       "      <td>8</td>\n",
       "      <td>1680.0</td>\n",
       "      <td>0</td>\n",
       "      <td>31</td>\n",
       "      <td>98074.0</td>\n",
       "      <td>47.6168</td>\n",
       "      <td>-122.045</td>\n",
       "      <td>1800.0</td>\n",
       "      <td>7503</td>\n",
       "      <td>No</td>\n",
       "    </tr>\n",
       "  </tbody>\n",
       "</table>\n",
       "</div>"
      ],
      "text/plain": [
       "           ID  Sale Price  No of Bedrooms  No of Bathrooms  \\\n",
       "0  7129300520    221900.0               3             1.00   \n",
       "1  6414100192    538000.0               3             2.25   \n",
       "2  5631500400    180000.0               2             1.00   \n",
       "3  2487200875    604000.0               4             3.00   \n",
       "4  1954400510    510000.0               3             2.00   \n",
       "\n",
       "   Flat Area (in Sqft)  Lot Area (in Sqft)  No of Floors Waterfront View  \\\n",
       "0               1180.0              5650.0           1.0              No   \n",
       "1               2570.0              7242.0           2.0              No   \n",
       "2                770.0             10000.0           1.0              No   \n",
       "3               1960.0              5000.0           1.0              No   \n",
       "4               1680.0              8080.0           1.0              No   \n",
       "\n",
       "  No of Times Visited Condition of the House  Overall Grade  \\\n",
       "0                None                   Fair              7   \n",
       "1                None                   Fair              7   \n",
       "2                None                   Fair              6   \n",
       "3                None              Excellent              7   \n",
       "4                None                   Fair              8   \n",
       "\n",
       "   Area of the House from Basement (in Sqft)  Basement Area (in Sqft)  \\\n",
       "0                                     1180.0                        0   \n",
       "1                                     2170.0                      400   \n",
       "2                                      770.0                        0   \n",
       "3                                     1050.0                      910   \n",
       "4                                     1680.0                        0   \n",
       "\n",
       "   Age of House (in Years)  Zipcode  Latitude  Longitude  \\\n",
       "0                       63  98178.0   47.5112   -122.257   \n",
       "1                       67  98125.0   47.7210   -122.319   \n",
       "2                       85  98028.0   47.7379   -122.233   \n",
       "3                       53  98136.0   47.5208   -122.393   \n",
       "4                       31  98074.0   47.6168   -122.045   \n",
       "\n",
       "   Living Area after Renovation (in Sqft)  \\\n",
       "0                                  1340.0   \n",
       "1                                  1690.0   \n",
       "2                                  2720.0   \n",
       "3                                  1360.0   \n",
       "4                                  1800.0   \n",
       "\n",
       "   Lot Area after Renovation (in Sqft) Ever Renovate  \n",
       "0                                 5650            No  \n",
       "1                                 7639           Yes  \n",
       "2                                 8062            No  \n",
       "3                                 5000            No  \n",
       "4                                 7503            No  "
      ]
     },
     "execution_count": 47,
     "metadata": {},
     "output_type": "execute_result"
    }
   ],
   "source": [
    "Raw_housing_data.head()"
   ]
  },
  {
   "cell_type": "code",
   "execution_count": 49,
   "id": "1a5be70f",
   "metadata": {},
   "outputs": [],
   "source": [
    "transformed_housing_data=pd.read_csv('Transformed_Housing_Data.csv')"
   ]
  },
  {
   "cell_type": "code",
   "execution_count": 52,
   "id": "c596c72e",
   "metadata": {},
   "outputs": [
    {
     "data": {
      "text/plain": [
       "0.6951704258420672"
      ]
     },
     "execution_count": 52,
     "metadata": {},
     "output_type": "execute_result"
    }
   ],
   "source": [
    "#To find correlation between 2 parameters\n",
    "transformed_housing_data['Sale Price'].corr(transformed_housing_data['Flat Area (in Sqft)'])\n",
    "#This is +ve and hence there is strong corelation\n",
    "#We can also do this using numpy library"
   ]
  },
  {
   "cell_type": "code",
   "execution_count": 53,
   "id": "9a89f2e3",
   "metadata": {},
   "outputs": [
    {
     "data": {
      "text/plain": [
       "Fair         14028\n",
       "Good          5678\n",
       "Excellent     1701\n",
       "Okay           172\n",
       "Bad             30\n",
       "Name: Condition of the House, dtype: int64"
      ]
     },
     "execution_count": 53,
     "metadata": {},
     "output_type": "execute_result"
    }
   ],
   "source": [
    "#Categorical values are values that are majorly listed down as objects in dtype\n",
    "transformed_housing_data['Condition of the House'].value_counts()"
   ]
  },
  {
   "cell_type": "code",
   "execution_count": 58,
   "id": "d2c17072",
   "metadata": {},
   "outputs": [
    {
     "data": {
      "text/plain": [
       "<AxesSubplot:xlabel='Condition of the House'>"
      ]
     },
     "execution_count": 58,
     "metadata": {},
     "output_type": "execute_result"
    },
    {
     "data": {
      "image/png": "[encoded data removed]",
      "text/plain": [
       "<Figure size 640x480 with 1 Axes>"
      ]
     },
     "metadata": {},
     "output_type": "display_data"
    }
   ],
   "source": [
    "#Now we need to see relationship of categorical variable with target variable\n",
    "transformed_housing_data.groupby('Condition of the House',)['Sale Price'].mean().plot(kind='bar')"
   ]
  },
  {
   "cell_type": "code",
   "execution_count": 60,
   "id": "cb45d18b",
   "metadata": {},
   "outputs": [],
   "source": [
    "#Anova\n",
    "from statsmodels.formula.api import ols\n",
    "import statsmodels.api as sm"
   ]
  },
  {
   "cell_type": "code",
   "execution_count": 61,
   "id": "e46a1503",
   "metadata": {},
   "outputs": [],
   "source": [
    "transformed_housing_data=transformed_housing_data.rename(columns={'Sale Price':'Sale_Price'})\n",
    "#As space is not accepted in these library"
   ]
  },
  {
   "cell_type": "code",
   "execution_count": 74,
   "id": "a60123ba",
   "metadata": {},
   "outputs": [],
   "source": [
    "transformed_housing_data=transformed_housing_data.rename(columns={'Condition of the House':'Condition_of_the_House'})"
   ]
  },
  {
   "cell_type": "code",
   "execution_count": 75,
   "id": "66fd9e6e",
   "metadata": {},
   "outputs": [
    {
     "data": {
      "text/plain": [
       "0         Fair\n",
       "1         Fair\n",
       "2         Fair\n",
       "3    Excellent\n",
       "4         Fair\n",
       "Name: Condition_of_the_House, dtype: object"
      ]
     },
     "execution_count": 75,
     "metadata": {},
     "output_type": "execute_result"
    }
   ],
   "source": [
    "transformed_housing_data['Condition_of_the_House'].head()"
   ]
  },
  {
   "cell_type": "code",
   "execution_count": 76,
   "id": "23049d90",
   "metadata": {},
   "outputs": [],
   "source": [
    "mod=ols('Sale_Price ~ Condition_of_the_House',data=transformed_housing_data).fit()"
   ]
  },
  {
   "cell_type": "code",
   "execution_count": 78,
   "id": "00611170",
   "metadata": {},
   "outputs": [],
   "source": [
    "Annova_Table=sm.stats.anova_lm(mod,type=2)"
   ]
  },
  {
   "cell_type": "code",
   "execution_count": 80,
   "id": "c1ba0ff8",
   "metadata": {},
   "outputs": [
    {
     "name": "stdout",
     "output_type": "stream",
     "text": [
      "                             df        sum_sq       mean_sq         F  \\\n",
      "Condition_of_the_House      4.0  1.441831e+13  3.604579e+12  58.25563   \n",
      "Residual                21604.0  1.336752e+15  6.187520e+10       NaN   \n",
      "\n",
      "                              PR(>F)  \n",
      "Condition_of_the_House  5.447605e-49  \n",
      "Residual                         NaN  \n"
     ]
    }
   ],
   "source": [
    "print(Annova_Table)\n",
    "#Clearly F value is great and pr value is really less so there is infact relation \n",
    "#between Sale Price and COndition of the house"
   ]
  },
  {
   "cell_type": "code",
   "execution_count": 82,
   "id": "f12824dc",
   "metadata": {},
   "outputs": [],
   "source": [
    "#Creating dummy variables\n",
    "transformed_housing_data=pd.get_dummies(transformed_housing_data,columns=['Condition_of_the_House'],drop_first=True)"
   ]
  },
  {
   "cell_type": "code",
   "execution_count": 83,
   "id": "69091555",
   "metadata": {},
   "outputs": [
    {
     "data": {
      "text/html": [
       "<div>\n",
       "<style scoped>\n",
       "    .dataframe tbody tr th:only-of-type {\n",
       "        vertical-align: middle;\n",
       "    }\n",
       "\n",
       "    .dataframe tbody tr th {\n",
       "        vertical-align: top;\n",
       "    }\n",
       "\n",
       "    .dataframe thead th {\n",
       "        text-align: right;\n",
       "    }\n",
       "</style>\n",
       "<table border=\"1\" class=\"dataframe\">\n",
       "  <thead>\n",
       "    <tr style=\"text-align: right;\">\n",
       "      <th></th>\n",
       "      <th>ID</th>\n",
       "      <th>Sale_Price</th>\n",
       "      <th>No of Bedrooms</th>\n",
       "      <th>No of Bathrooms</th>\n",
       "      <th>Flat Area (in Sqft)</th>\n",
       "      <th>Lot Area (in Sqft)</th>\n",
       "      <th>No of Floors</th>\n",
       "      <th>Waterfront View</th>\n",
       "      <th>No of Times Visited</th>\n",
       "      <th>Overall Grade</th>\n",
       "      <th>...</th>\n",
       "      <th>Latitude</th>\n",
       "      <th>Longitude</th>\n",
       "      <th>Living Area after Renovation (in Sqft)</th>\n",
       "      <th>Lot Area after Renovation (in Sqft)</th>\n",
       "      <th>Ever Renovated</th>\n",
       "      <th>Years Since Renovation</th>\n",
       "      <th>Condition_of_the_House_Excellent</th>\n",
       "      <th>Condition_of_the_House_Fair</th>\n",
       "      <th>Condition_of_the_House_Good</th>\n",
       "      <th>Condition_of_the_House_Okay</th>\n",
       "    </tr>\n",
       "  </thead>\n",
       "  <tbody>\n",
       "    <tr>\n",
       "      <th>0</th>\n",
       "      <td>7129300520</td>\n",
       "      <td>221900.0</td>\n",
       "      <td>3</td>\n",
       "      <td>1.00</td>\n",
       "      <td>1180.0</td>\n",
       "      <td>5650.0</td>\n",
       "      <td>1.0</td>\n",
       "      <td>No</td>\n",
       "      <td>0</td>\n",
       "      <td>7</td>\n",
       "      <td>...</td>\n",
       "      <td>47.5112</td>\n",
       "      <td>-122.257</td>\n",
       "      <td>1340.0</td>\n",
       "      <td>5650</td>\n",
       "      <td>No</td>\n",
       "      <td>0</td>\n",
       "      <td>0</td>\n",
       "      <td>1</td>\n",
       "      <td>0</td>\n",
       "      <td>0</td>\n",
       "    </tr>\n",
       "    <tr>\n",
       "      <th>1</th>\n",
       "      <td>6414100192</td>\n",
       "      <td>538000.0</td>\n",
       "      <td>3</td>\n",
       "      <td>2.25</td>\n",
       "      <td>2570.0</td>\n",
       "      <td>7242.0</td>\n",
       "      <td>2.0</td>\n",
       "      <td>No</td>\n",
       "      <td>0</td>\n",
       "      <td>7</td>\n",
       "      <td>...</td>\n",
       "      <td>47.7210</td>\n",
       "      <td>-122.319</td>\n",
       "      <td>1690.0</td>\n",
       "      <td>7639</td>\n",
       "      <td>Yes</td>\n",
       "      <td>26</td>\n",
       "      <td>0</td>\n",
       "      <td>1</td>\n",
       "      <td>0</td>\n",
       "      <td>0</td>\n",
       "    </tr>\n",
       "    <tr>\n",
       "      <th>2</th>\n",
       "      <td>5631500400</td>\n",
       "      <td>180000.0</td>\n",
       "      <td>2</td>\n",
       "      <td>1.00</td>\n",
       "      <td>770.0</td>\n",
       "      <td>10000.0</td>\n",
       "      <td>1.0</td>\n",
       "      <td>No</td>\n",
       "      <td>0</td>\n",
       "      <td>6</td>\n",
       "      <td>...</td>\n",
       "      <td>47.7379</td>\n",
       "      <td>-122.233</td>\n",
       "      <td>2720.0</td>\n",
       "      <td>8062</td>\n",
       "      <td>No</td>\n",
       "      <td>0</td>\n",
       "      <td>0</td>\n",
       "      <td>1</td>\n",
       "      <td>0</td>\n",
       "      <td>0</td>\n",
       "    </tr>\n",
       "    <tr>\n",
       "      <th>3</th>\n",
       "      <td>2487200875</td>\n",
       "      <td>604000.0</td>\n",
       "      <td>4</td>\n",
       "      <td>3.00</td>\n",
       "      <td>1960.0</td>\n",
       "      <td>5000.0</td>\n",
       "      <td>1.0</td>\n",
       "      <td>No</td>\n",
       "      <td>0</td>\n",
       "      <td>7</td>\n",
       "      <td>...</td>\n",
       "      <td>47.5208</td>\n",
       "      <td>-122.393</td>\n",
       "      <td>1360.0</td>\n",
       "      <td>5000</td>\n",
       "      <td>No</td>\n",
       "      <td>0</td>\n",
       "      <td>1</td>\n",
       "      <td>0</td>\n",
       "      <td>0</td>\n",
       "      <td>0</td>\n",
       "    </tr>\n",
       "    <tr>\n",
       "      <th>4</th>\n",
       "      <td>1954400510</td>\n",
       "      <td>510000.0</td>\n",
       "      <td>3</td>\n",
       "      <td>2.00</td>\n",
       "      <td>1680.0</td>\n",
       "      <td>8080.0</td>\n",
       "      <td>1.0</td>\n",
       "      <td>No</td>\n",
       "      <td>0</td>\n",
       "      <td>8</td>\n",
       "      <td>...</td>\n",
       "      <td>47.6168</td>\n",
       "      <td>-122.045</td>\n",
       "      <td>1800.0</td>\n",
       "      <td>7503</td>\n",
       "      <td>No</td>\n",
       "      <td>0</td>\n",
       "      <td>0</td>\n",
       "      <td>1</td>\n",
       "      <td>0</td>\n",
       "      <td>0</td>\n",
       "    </tr>\n",
       "  </tbody>\n",
       "</table>\n",
       "<p>5 rows × 24 columns</p>\n",
       "</div>"
      ],
      "text/plain": [
       "           ID  Sale_Price  No of Bedrooms  No of Bathrooms  \\\n",
       "0  7129300520    221900.0               3             1.00   \n",
       "1  6414100192    538000.0               3             2.25   \n",
       "2  5631500400    180000.0               2             1.00   \n",
       "3  2487200875    604000.0               4             3.00   \n",
       "4  1954400510    510000.0               3             2.00   \n",
       "\n",
       "   Flat Area (in Sqft)  Lot Area (in Sqft)  No of Floors Waterfront View  \\\n",
       "0               1180.0              5650.0           1.0              No   \n",
       "1               2570.0              7242.0           2.0              No   \n",
       "2                770.0             10000.0           1.0              No   \n",
       "3               1960.0              5000.0           1.0              No   \n",
       "4               1680.0              8080.0           1.0              No   \n",
       "\n",
       "   No of Times Visited  Overall Grade  ...  Latitude  Longitude  \\\n",
       "0                    0              7  ...   47.5112   -122.257   \n",
       "1                    0              7  ...   47.7210   -122.319   \n",
       "2                    0              6  ...   47.7379   -122.233   \n",
       "3                    0              7  ...   47.5208   -122.393   \n",
       "4                    0              8  ...   47.6168   -122.045   \n",
       "\n",
       "   Living Area after Renovation (in Sqft)  \\\n",
       "0                                  1340.0   \n",
       "1                                  1690.0   \n",
       "2                                  2720.0   \n",
       "3                                  1360.0   \n",
       "4                                  1800.0   \n",
       "\n",
       "   Lot Area after Renovation (in Sqft)  Ever Renovated  \\\n",
       "0                                 5650              No   \n",
       "1                                 7639             Yes   \n",
       "2                                 8062              No   \n",
       "3                                 5000              No   \n",
       "4                                 7503              No   \n",
       "\n",
       "   Years Since Renovation  Condition_of_the_House_Excellent  \\\n",
       "0                       0                                 0   \n",
       "1                      26                                 0   \n",
       "2                       0                                 0   \n",
       "3                       0                                 1   \n",
       "4                       0                                 0   \n",
       "\n",
       "   Condition_of_the_House_Fair Condition_of_the_House_Good  \\\n",
       "0                            1                           0   \n",
       "1                            1                           0   \n",
       "2                            1                           0   \n",
       "3                            0                           0   \n",
       "4                            1                           0   \n",
       "\n",
       "   Condition_of_the_House_Okay  \n",
       "0                            0  \n",
       "1                            0  \n",
       "2                            0  \n",
       "3                            0  \n",
       "4                            0  \n",
       "\n",
       "[5 rows x 24 columns]"
      ]
     },
     "execution_count": 83,
     "metadata": {},
     "output_type": "execute_result"
    }
   ],
   "source": [
    "transformed_housing_data.head()"
   ]
  },
  {
   "cell_type": "code",
   "execution_count": 84,
   "id": "323ab6d3",
   "metadata": {},
   "outputs": [],
   "source": [
    "#We create dummy variable as on assigning differnt numbers model might\n",
    "#start giving preference to larger numbers or such "
   ]
  },
  {
   "cell_type": "code",
   "execution_count": 85,
   "id": "dad3e3a9",
   "metadata": {},
   "outputs": [],
   "source": [
    "#We create bins if category variable is greater than 20 \n",
    "#we group the variables and put it in a single bin"
   ]
  },
  {
   "cell_type": "code",
   "execution_count": 88,
   "id": "ec0ebac7",
   "metadata": {},
   "outputs": [],
   "source": [
    "transformed_housing_data=pd.read_csv(\"Transformed_Housing_Data2.csv\")"
   ]
  },
  {
   "cell_type": "code",
   "execution_count": 89,
   "id": "76453aaa",
   "metadata": {},
   "outputs": [],
   "source": [
    "#distributing data into train data and test data"
   ]
  },
  {
   "cell_type": "code",
   "execution_count": 91,
   "id": "39b47d02",
   "metadata": {},
   "outputs": [],
   "source": [
    "y=transformed_housing_data.iloc[:,0]"
   ]
  },
  {
   "cell_type": "code",
   "execution_count": 94,
   "id": "01ef216d",
   "metadata": {},
   "outputs": [],
   "source": [
    "x=transformed_housing_data.iloc[:,1:31]"
   ]
  },
  {
   "cell_type": "code",
   "execution_count": 95,
   "id": "60e2c32b",
   "metadata": {},
   "outputs": [],
   "source": [
    "from sklearn.model_selection import train_test_split"
   ]
  },
  {
   "cell_type": "code",
   "execution_count": 96,
   "id": "e276b783",
   "metadata": {},
   "outputs": [],
   "source": [
    "x_train,x_test,y_train,y_test=train_test_split(x,y,test_size=0.3)"
   ]
  },
  {
   "cell_type": "code",
   "execution_count": 97,
   "id": "0ef423ec",
   "metadata": {},
   "outputs": [],
   "source": [
    "#Feature Scaling\n",
    "from sklearn import preprocessing\n",
    "scale=preprocessing.StandardScaler()"
   ]
  },
  {
   "cell_type": "code",
   "execution_count": 98,
   "id": "a236dd36",
   "metadata": {},
   "outputs": [],
   "source": [
    "x_train=scale.fit_transform(x_train)"
   ]
  },
  {
   "cell_type": "code",
   "execution_count": 99,
   "id": "6c7f1a48",
   "metadata": {},
   "outputs": [
    {
     "data": {
      "text/plain": [
       "array([[ 0.66528148,  0.50195917,  0.67168813, ..., -0.11398347,\n",
       "        -0.16858205, -0.04675943],\n",
       "       [-0.39970399, -0.79614895, -0.78213323, ..., -0.11398347,\n",
       "        -0.16858205, -0.04675943],\n",
       "       [ 1.73026695,  0.50195917,  0.59574223, ..., -0.11398347,\n",
       "        -0.16858205, -0.04675943],\n",
       "       ...,\n",
       "       [-0.39970399, -1.44520301, -0.98827208, ..., -0.11398347,\n",
       "        -0.16858205, -0.04675943],\n",
       "       [-1.46468945, -0.79614895, -1.22695917, ..., -0.11398347,\n",
       "        -0.16858205, -0.04675943],\n",
       "       [-0.39970399, -0.79614895, -1.1727121 , ..., -0.11398347,\n",
       "        -0.16858205, -0.04675943]])"
      ]
     },
     "execution_count": 99,
     "metadata": {},
     "output_type": "execute_result"
    }
   ],
   "source": [
    "x_train"
   ]
  },
  {
   "cell_type": "code",
   "execution_count": 100,
   "id": "5508437e",
   "metadata": {},
   "outputs": [],
   "source": [
    "x_test=scale.fit_transform(x_test)"
   ]
  },
  {
   "cell_type": "code",
   "execution_count": 101,
   "id": "56f1a05a",
   "metadata": {},
   "outputs": [
    {
     "data": {
      "text/plain": [
       "array([[ 0.70445811,  0.49651912,  0.58494428, ..., -0.10818558,\n",
       "        -0.16947283, -0.05127511],\n",
       "       [ 0.70445811,  0.17160406,  0.35427182, ..., -0.10818558,\n",
       "        -0.16947283, -0.05127511],\n",
       "       [-0.39655489, -0.47822604,  0.6398663 , ..., -0.10818558,\n",
       "        -0.16947283, -0.05127511],\n",
       "       ...,\n",
       "       [-1.4975679 , -1.4529712 , -1.41421706, ..., -0.10818558,\n",
       "        -0.16947283, -0.05127511],\n",
       "       [-1.4975679 , -1.4529712 , -1.29338863, ..., -0.10818558,\n",
       "        -0.16947283, -0.05127511],\n",
       "       [-0.39655489,  0.17160406,  0.06867734, ..., -0.10818558,\n",
       "        -0.16947283, -0.05127511]])"
      ]
     },
     "execution_count": 101,
     "metadata": {},
     "output_type": "execute_result"
    }
   ],
   "source": [
    "x_test"
   ]
  },
  {
   "cell_type": "code",
   "execution_count": null,
   "id": "8c170633",
   "metadata": {},
   "outputs": [],
   "source": []
  }
 ],
 "metadata": {
  "kernelspec": {
   "display_name": "Python 3 (ipykernel)",
   "language": "python",
   "name": "python3"
  },
  "language_info": {
   "codemirror_mode": {
    "name": "ipython",
    "version": 3
   },
   "file_extension": ".py",
   "mimetype": "text/x-python",
   "name": "python",
   "nbconvert_exporter": "python",
   "pygments_lexer": "ipython3",
   "version": "3.9.13"
  }
 },
 "nbformat": 4,
 "nbformat_minor": 5
}
